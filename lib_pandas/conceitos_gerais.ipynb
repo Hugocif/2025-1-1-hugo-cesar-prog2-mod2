{
 "cells": [
  {
   "cell_type": "code",
   "execution_count": null,
   "metadata": {},
   "outputs": [],
   "source": [
    "import pandas as pd"
   ]
  },
  {
   "cell_type": "code",
   "execution_count": 1,
   "metadata": {},
   "outputs": [
    {
     "ename": "NameError",
     "evalue": "name 'pd' is not defined",
     "output_type": "error",
     "traceback": [
      "\u001b[1;31m---------------------------------------------------------------------------\u001b[0m",
      "\u001b[1;31mNameError\u001b[0m                                 Traceback (most recent call last)",
      "Cell \u001b[1;32mIn[1], line 8\u001b[0m\n\u001b[0;32m      1\u001b[0m \u001b[38;5;124;03m\"\"\"PANDAS - SERIES\"\"\"\u001b[39;00m\n\u001b[0;32m      3\u001b[0m \u001b[38;5;66;03m#Etrutura umidimensional semelhante a um vetor, array ou coluna de uma tabela\u001b[39;00m\n\u001b[0;32m      4\u001b[0m \u001b[38;5;66;03m#índice (rotulavel);\u001b[39;00m\n\u001b[0;32m      5\u001b[0m \u001b[38;5;66;03m#tipos de dados: valores numericos, textos, datas, etc...;\u001b[39;00m\n\u001b[0;32m      6\u001b[0m \u001b[38;5;66;03m#criando uma serie simples: dados=[10, 20, 30, 40, 50];\u001b[39;00m\n\u001b[0;32m      7\u001b[0m \u001b[38;5;66;03m#serie co indices personalizadas\u001b[39;00m\n\u001b[1;32m----> 8\u001b[0m vendas \u001b[38;5;241m=\u001b[39m \u001b[43mpd\u001b[49m\u001b[38;5;241m.\u001b[39mSeries([\u001b[38;5;241m200\u001b[39m,\u001b[38;5;241m300\u001b[39m,\u001b[38;5;241m400\u001b[39m,\u001b[38;5;241m500\u001b[39m], index\u001b[38;5;241m=\u001b[39m[\u001b[38;5;124m'\u001b[39m\u001b[38;5;124mjaneiro\u001b[39m\u001b[38;5;124m'\u001b[39m, \u001b[38;5;124m'\u001b[39m\u001b[38;5;124mfevereiro\u001b[39m\u001b[38;5;124m'\u001b[39m, \u001b[38;5;124m'\u001b[39m\u001b[38;5;124mmarco\u001b[39m\u001b[38;5;124m'\u001b[39m, \u001b[38;5;124m'\u001b[39m\u001b[38;5;124mabril\u001b[39m\u001b[38;5;124m'\u001b[39m])\n\u001b[0;32m     10\u001b[0m \u001b[38;5;66;03m#dados em formato de dicionario \u001b[39;00m\n\u001b[0;32m     11\u001b[0m dados \u001b[38;5;241m=\u001b[39m {\n\u001b[0;32m     12\u001b[0m     \u001b[38;5;124m'\u001b[39m\u001b[38;5;124mproduto\u001b[39m\u001b[38;5;124m'\u001b[39m:[\u001b[38;5;124m'\u001b[39m\u001b[38;5;124marroz\u001b[39m\u001b[38;5;124m'\u001b[39m, \u001b[38;5;124m'\u001b[39m\u001b[38;5;124mfeijao\u001b[39m\u001b[38;5;124m'\u001b[39m, \u001b[38;5;124m'\u001b[39m\u001b[38;5;124mmacarrao\u001b[39m\u001b[38;5;124m'\u001b[39m, \u001b[38;5;124m'\u001b[39m\u001b[38;5;124macucar\u001b[39m\u001b[38;5;124m'\u001b[39m],\n\u001b[0;32m     13\u001b[0m     \u001b[38;5;124m'\u001b[39m\u001b[38;5;124mpreco\u001b[39m\u001b[38;5;124m'\u001b[39m:[\u001b[38;5;241m5.5\u001b[39m, \u001b[38;5;241m7.0\u001b[39m, \u001b[38;5;241m4.5\u001b[39m, \u001b[38;5;241m3.8\u001b[39m],\n\u001b[0;32m     14\u001b[0m     \u001b[38;5;124m'\u001b[39m\u001b[38;5;124mestoque\u001b[39m\u001b[38;5;124m'\u001b[39m:[\u001b[38;5;241m50\u001b[39m, \u001b[38;5;241m70\u001b[39m, \u001b[38;5;241m40\u001b[39m, \u001b[38;5;241m80\u001b[39m]\n\u001b[0;32m     15\u001b[0m }\n",
      "\u001b[1;31mNameError\u001b[0m: name 'pd' is not defined"
     ]
    }
   ],
   "source": [
    "\"\"\"PANDAS - SERIES\"\"\"\n",
    "\n",
    "#Etrutura umidimensional semelhante a um vetor, array ou coluna de uma tabela\n",
    "#índice (rotulavel);\n",
    "#tipos de dados: valores numericos, textos, datas, etc...;\n",
    "#criando uma serie simples: dados=[10, 20, 30, 40, 50];\n",
    "#serie co indices personalizadas\n",
    "vendas = pd.Series([200,300,400,500], index=['janeiro', 'fevereiro', 'marco', 'abril'])\n",
    "\n",
    "#dados em formato de dicionario \n",
    "dados = {\n",
    "    'produto':['arroz', 'feijao', 'macarrao', 'acucar'],\n",
    "    'preco':[5.5, 7.0, 4.5, 3.8],\n",
    "    'estoque':[50, 70, 40, 80]\n",
    "}\n",
    "\n",
    "#crinado do DataFrame\n",
    "df =pd.DataFrame(dados)\n"
   ]
  }
 ],
 "metadata": {
  "kernelspec": {
   "display_name": "Python 3.8.6 64-bit",
   "language": "python",
   "name": "python3"
  },
  "language_info": {
   "codemirror_mode": {
    "name": "ipython",
    "version": 3
   },
   "file_extension": ".py",
   "mimetype": "text/x-python",
   "name": "python",
   "nbconvert_exporter": "python",
   "pygments_lexer": "ipython3",
   "version": "3.8.6"
  },
  "orig_nbformat": 4,
  "vscode": {
   "interpreter": {
    "hash": "c5a41a991e20e0a8b70d302d7113550a9cc3c567446b5421a5ab04272d1c42ab"
   }
  }
 },
 "nbformat": 4,
 "nbformat_minor": 2
}
