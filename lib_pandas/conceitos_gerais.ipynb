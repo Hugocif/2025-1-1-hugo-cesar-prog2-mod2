{
 "cells": [
  {
   "cell_type": "code",
   "execution_count": null,
   "metadata": {},
   "outputs": [],
   "source": [
    "\"\"\"PANDAS - SERIES\"\"\"\n",
    "\n",
    "#Etrutura umidimensional semelhante a um vetor, array ou coluna de uma tabela\n",
    "#índice (rotulavel);\n",
    "#tipos de dados: valores numericos, textos, datas, etc...;\n",
    "#criando uma serie simples: dados=[10, 20, 30, 40, 50];\n",
    "#serie co indices personalizadas\n",
    "vendas = pd.Series([200,300,400,500], index=['janeiro', 'fevereiro', 'marco', 'abril'])\n",
    "\n",
    "#dados em formato de dicionario \n",
    "dados = {\n",
    "    'produto':['arroz', 'feijao', 'macarrao', 'acucar'],\n",
    "    'preco':[5.5, 7.0, 4.5, 3.8],\n",
    "    'estoque':[50, 70, 40, 80]\n",
    "}\n",
    "\n",
    "#crinado do DataFrame\n",
    "df =pd.DataFrame(dados)"
   ]
  }
 ],
 "metadata": {
  "language_info": {
   "name": "python"
  },
  "orig_nbformat": 4
 },
 "nbformat": 4,
 "nbformat_minor": 2
}
