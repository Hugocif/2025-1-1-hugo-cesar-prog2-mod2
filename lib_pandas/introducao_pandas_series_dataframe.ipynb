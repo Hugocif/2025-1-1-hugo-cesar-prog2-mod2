{
 "cells": [
  {
   "cell_type": "code",
   "execution_count": 1,
   "metadata": {},
   "outputs": [],
   "source": [
    "import pandas as pd"
   ]
  },
  {
   "cell_type": "code",
   "execution_count": 2,
   "metadata": {},
   "outputs": [
    {
     "data": {
      "text/plain": [
       "0    10\n",
       "1    20\n",
       "2    30\n",
       "3    40\n",
       "4    50\n",
       "dtype: int64"
      ]
     },
     "execution_count": 2,
     "metadata": {},
     "output_type": "execute_result"
    }
   ],
   "source": [
    "#criando uma serie siples\n",
    "dados = [10, 20, 30, 40, 50]\n",
    "\n",
    "serie = pd.Series(dados)\n",
    "serie"
   ]
  },
  {
   "cell_type": "code",
   "execution_count": 4,
   "metadata": {},
   "outputs": [
    {
     "data": {
      "text/plain": [
       "abril      200\n",
       "outubro    300\n",
       "junho      400\n",
       "julho      500\n",
       "dtype: int64"
      ]
     },
     "execution_count": 4,
     "metadata": {},
     "output_type": "execute_result"
    }
   ],
   "source": [
    "#series com indices personalizados (rotulos)\n",
    "vendas = pd.Series([200, 300, 400, 500], index=['abril', 'outubro', 'junho', 'julho'])\n",
    "vendas"
   ]
  },
  {
   "cell_type": "code",
   "execution_count": 6,
   "metadata": {},
   "outputs": [
    {
     "data": {
      "text/plain": [
       "(300, 200)"
      ]
     },
     "execution_count": 6,
     "metadata": {},
     "output_type": "execute_result"
    }
   ],
   "source": [
    "#acessano os dados \n",
    "informacao_abril = vendas[\"outubro\"]\n",
    "acesso_via_indice = vendas[0]\n",
    "(informacao_abril, acesso_via_indice)"
   ]
  },
  {
   "cell_type": "code",
   "execution_count": null,
   "metadata": {},
   "outputs": [],
   "source": [
    "soma = vendas.sum()\n",
    "media = vendas.mean()\n"
   ]
  },
  {
   "cell_type": "code",
   "execution_count": null,
   "metadata": {},
   "outputs": [],
   "source": [
    "\"\"\"  \n",
    "Funcao describe(): analise de dados aplicadas a colunas numericas estatisticas:\n",
    "counrt   : Numero da valores nao nulos na coluna.\n",
    "mean     : media aritimetica dos valore.\n",
    "std      : Desvio padrao, que mede a dispersdao dos dados em relação a media\n",
    "min      : Valor minimo na coluna \n",
    "25%      : prieiro quartil (25º percentil), valor abaixo do qual 25% dos dados se3 econtram\n",
    "50%      : segundo quartil (mediana), valor abaixo do qual 50% dos dados se encontram.\n",
    "75%      : terceiro quartil (75% percentil), valor abaixo do qual 75% dos dados se encontram\n",
    "max      : valor maximoi no coluna\n",
    "\"\"\"\n",
    "df.describe()\n",
    "# df.info()"
   ]
  },
  {
   "cell_type": "code",
   "execution_count": null,
   "metadata": {},
   "outputs": [],
   "source": [
    "#media\n",
    "df[\"preco\"].mean()"
   ]
  },
  {
   "cell_type": "code",
   "execution_count": null,
   "metadata": {},
   "outputs": [],
   "source": [
    "#soma\n",
    "df[\"estoque\"].sum()"
   ]
  },
  {
   "cell_type": "code",
   "execution_count": null,
   "metadata": {},
   "outputs": [],
   "source": [
    "#filtrar dados Dataframe\n",
    "df[df[\"preco\"] > 5]"
   ]
  }
 ],
 "metadata": {
  "kernelspec": {
   "display_name": "Python 3.8.6 64-bit",
   "language": "python",
   "name": "python3"
  },
  "language_info": {
   "codemirror_mode": {
    "name": "ipython",
    "version": 3
   },
   "file_extension": ".py",
   "mimetype": "text/x-python",
   "name": "python",
   "nbconvert_exporter": "python",
   "pygments_lexer": "ipython3",
   "version": "3.8.6"
  },
  "orig_nbformat": 4,
  "vscode": {
   "interpreter": {
    "hash": "c5a41a991e20e0a8b70d302d7113550a9cc3c567446b5421a5ab04272d1c42ab"
   }
  }
 },
 "nbformat": 4,
 "nbformat_minor": 2
}
